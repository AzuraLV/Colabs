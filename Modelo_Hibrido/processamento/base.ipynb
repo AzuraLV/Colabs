{
 "cells": [
  {
   "cell_type": "code",
   "execution_count": null,
   "metadata": {
    "vscode": {
     "languageId": "plaintext"
    }
   },
   "outputs": [],
   "source": [
    "\n",
    "import numpy as np\n",
    "import pandas as pd"
   ]
  },
  {
   "cell_type": "code",
   "execution_count": null,
   "metadata": {
    "vscode": {
     "languageId": "plaintext"
    }
   },
   "outputs": [],
   "source": [
    "df = pd.read_csv(r\"C:\\Users\\annab\\OneDrive\\Documentos\\GitHub\\Colabs\\bases\\data_prema.csv\")"
   ]
  },
  {
   "cell_type": "code",
   "execution_count": null,
   "metadata": {
    "vscode": {
     "languageId": "plaintext"
    }
   },
   "outputs": [],
   "source": [
    "atributos_excluir = [\n",
    "    'DTDECLARAC', 'TPDOCRESP', 'TPFUNCRESP', 'TPNASCASSI', 'STCESPARTO', 'STTRABPART', \n",
    "    'SEMAGESTAC', 'DIFDATA', 'DTRECORIGA', 'DTRECEBIM', 'VERSAOSIST', 'NUMEROLOTE', 'DTCADASTRO',\n",
    "    'PESO', 'APGAR1', 'APGAR5', 'HORANASC', 'DTNASC', 'PARTO', 'TPROBSON', 'KOTELCHUCK', 'CONTADOR', 'ORIGEM',\n",
    "    'TPMETESTIM', 'TPAPRESENT'\n",
    "    ]\n",
    "\n",
    "df = df.drop(columns=atributos_excluir)"
   ]
  },
  {
   "cell_type": "code",
   "execution_count": null,
   "metadata": {
    "vscode": {
     "languageId": "plaintext"
    }
   },
   "outputs": [],
   "source": [
    "df_prema = df[df['GESTACAO'] <= 4].copy()\n",
    "df_normal = df[df['GESTACAO'] > 4].copy()\n",
    "\n",
    "df_prema['CLASSE'] = 1\n",
    "df_normal['CLASSE'] = 0"
   ]
  },
  {
   "cell_type": "code",
   "execution_count": null,
   "metadata": {
    "vscode": {
     "languageId": "plaintext"
    }
   },
   "outputs": [],
   "source": [
    "df_unificado = pd.concat([df_prema, df_normal], ignore_index=True)"
   ]
  },
  {
   "cell_type": "code",
   "execution_count": null,
   "metadata": {
    "vscode": {
     "languageId": "plaintext"
    }
   },
   "outputs": [],
   "source": [
    "df_unificado = df_unificado.drop(columns = ['GESTACAO'])"
   ]
  },
  {
   "cell_type": "code",
   "execution_count": null,
   "metadata": {
    "vscode": {
     "languageId": "plaintext"
    }
   },
   "outputs": [],
   "source": [
    "caminho_pasta = r'C:\\Users\\SeuUsuario\\RECPAD\\Modelo_Hibrido\\processamento'\n",
    "arquivo_csv = f'{caminho_pasta}\\df_prema_hibrido.csv'\n",
    "df_unificado.to_csv('df_prema_hibrido.csv', index=False)"
   ]
  }
 ],
 "metadata": {
  "language_info": {
   "name": "python"
  }
 },
 "nbformat": 4,
 "nbformat_minor": 2
}

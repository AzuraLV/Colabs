{
 "cells": [
  {
   "cell_type": "markdown",
   "metadata": {},
   "source": [
    "# Bibliotecas\n"
   ]
  },
  {
   "cell_type": "code",
   "execution_count": 11,
   "metadata": {},
   "outputs": [],
   "source": [
    "import pandas as pd\n",
    "import pandas as pd\n",
    "import matplotlib.pyplot as plt\n",
    "import seaborn as sns\n",
    "import numpy as np\n",
    "import seaborn as sns\n",
    "from scipy import stats\n",
    "import matplotlib.pyplot as plt\n",
    "from sklearn.preprocessing import MinMaxScaler, StandardScaler"
   ]
  },
  {
   "cell_type": "markdown",
   "metadata": {},
   "source": [
    "# Base\n"
   ]
  },
  {
   "cell_type": "code",
   "execution_count": 12,
   "metadata": {},
   "outputs": [],
   "source": [
    "df = pd.read_csv(r\"C:\\Users\\annab\\OneDrive\\Documentos\\GitHub\\Colabs\\bases\\data_prema.csv\")"
   ]
  },
  {
   "cell_type": "markdown",
   "metadata": {},
   "source": [
    "# Processando..."
   ]
  },
  {
   "cell_type": "code",
   "execution_count": null,
   "metadata": {},
   "outputs": [
    {
     "name": "stdout",
     "output_type": "stream",
     "text": [
      "       Feature          Score\n",
      "8     STDNNOVA       0.143311\n",
      "10    PARIDADE       0.609075\n",
      "6   DTCADASTRO       1.442646\n",
      "4       DTNASC       6.320191\n",
      "7      DIFDATA       8.955701\n",
      "0   CODMUNNASC      16.373054\n",
      "3    CODMUNRES      17.521780\n",
      "5         SEXO      62.040909\n",
      "2     IDADEMAE      91.868561\n",
      "1      LOCNASC     100.176146\n",
      "12    CONTADOR     142.010422\n",
      "11  KOTELCHUCK    1692.320520\n",
      "9     TPROBSON  353697.315544\n"
     ]
    }
   ],
   "source": [
    "import pandas as pd\n",
    "from sklearn.ensemble import RandomForestClassifier\n",
    "from sklearn.model_selection import train_test_split\n",
    "from sklearn.feature_selection import SelectKBest, f_classif\n",
    "\n",
    "\n",
    "df['premature'] = df['GESTACAO'].apply(lambda x: 1 if x in [1, 2, 3, 4] else 0)\n",
    "\n",
    "df = df.select_dtypes(include=['number']).dropna(axis=1)\n",
    "\n",
    "X = df.drop(columns=['premature'])\n",
    "y = df['premature']\n",
    "\n",
    "X_train, X_test, y_train, y_test = train_test_split(X, y, test_size=0.3, random_state=42)\n",
    "\n",
    "selector = SelectKBest(score_func=f_classif, k='all')\n",
    "selector.fit(X_train, y_train)\n",
    "scores = pd.DataFrame({'Feature': X.columns, 'Score': selector.scores_})\n",
    "scores = scores.sort_values(by='Score')\n",
    "\n",
    "print(scores.head(10))"
   ]
  }
 ],
 "metadata": {
  "kernelspec": {
   "display_name": "Python 3",
   "language": "python",
   "name": "python3"
  },
  "language_info": {
   "codemirror_mode": {
    "name": "ipython",
    "version": 3
   },
   "file_extension": ".py",
   "mimetype": "text/x-python",
   "name": "python",
   "nbconvert_exporter": "python",
   "pygments_lexer": "ipython3",
   "version": "3.12.4"
  }
 },
 "nbformat": 4,
 "nbformat_minor": 2
}

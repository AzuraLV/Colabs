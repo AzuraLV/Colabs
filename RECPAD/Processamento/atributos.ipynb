{
 "cells": [
  {
   "cell_type": "code",
   "execution_count": 16,
   "metadata": {},
   "outputs": [],
   "source": [
    "\n",
    "import numpy as np\n",
    "import pandas as pd"
   ]
  },
  {
   "cell_type": "code",
   "execution_count": 17,
   "metadata": {},
   "outputs": [],
   "source": [
    "df = pd.read_csv(r\"C:\\Users\\annab\\OneDrive\\Documentos\\GitHub\\Colabs\\bases\\data_prema.csv\")"
   ]
  },
  {
   "cell_type": "code",
   "execution_count": 18,
   "metadata": {},
   "outputs": [],
   "source": [
    "atributos_excluir = [\n",
    "    'DTDECLARAC', 'TPDOCRESP', 'TPFUNCRESP', 'TPNASCASSI', 'STCESPARTO', 'STTRABPART', \n",
    "    'SEMAGESTAC', 'DIFDATA', 'DTRECORIGA', 'DTRECEBIM', 'VERSAOSIST', 'NUMEROLOTE', 'DTCADASTRO',\n",
    "    'PESO', 'APGAR1', 'APGAR5', 'HORANASC', 'DTNASC', 'PARTO', 'TPROBSON', 'KOTELCHUCK', 'CONTADOR', 'ORIGEM',\n",
    "    'TPMETESTIM', 'TPAPRESENT'\n",
    "    ]\n",
    "\n",
    "df = df.drop(columns=atributos_excluir)"
   ]
  },
  {
   "cell_type": "code",
   "execution_count": 19,
   "metadata": {},
   "outputs": [],
   "source": [
    "df_prema = df[df['GESTACAO'] <= 4].copy()\n",
    "df_normal = df[df['GESTACAO'] > 4].copy()\n",
    "\n",
    "df_prema['CLASSE'] = 1\n",
    "df_normal['CLASSE'] = 0"
   ]
  },
  {
   "cell_type": "code",
   "execution_count": 20,
   "metadata": {},
   "outputs": [],
   "source": [
    "df_unificado = pd.concat([df_prema, df_normal], ignore_index=True)"
   ]
  },
  {
   "cell_type": "code",
   "execution_count": 21,
   "metadata": {},
   "outputs": [],
   "source": [
    "df_unificado = df_unificado.drop(columns = ['GESTACAO'])"
   ]
  },
  {
   "cell_type": "code",
   "execution_count": 23,
   "metadata": {},
   "outputs": [
    {
     "name": "stderr",
     "output_type": "stream",
     "text": [
      "<>:2: SyntaxWarning: invalid escape sequence '\\p'\n",
      "<>:2: SyntaxWarning: invalid escape sequence '\\p'\n",
      "C:\\Users\\annab\\AppData\\Local\\Temp\\ipykernel_11792\\3913500188.py:2: SyntaxWarning: invalid escape sequence '\\p'\n",
      "  arquivo_csv = f'{caminho_pasta}\\processamento_final.csv'\n"
     ]
    }
   ],
   "source": [
    "caminho_pasta = r'C:\\Users\\SeuUsuario\\RECPAD\\Processamento'\n",
    "arquivo_csv = f'{caminho_pasta}\\processamento_final.csv'\n",
    "df_unificado.to_csv('df_processed', index=False)"
   ]
  },
  {
   "cell_type": "code",
   "execution_count": 24,
   "metadata": {},
   "outputs": [
    {
     "data": {
      "text/plain": [
       "Index(['CODESTAB', 'CODMUNNASC', 'LOCNASC', 'IDADEMAE', 'ESTCIVMAE', 'ESCMAE',\n",
       "       'CODOCUPMAE', 'QTDFILVIVO', 'QTDFILMORT', 'CODMUNRES', 'GRAVIDEZ',\n",
       "       'CONSULTAS', 'SEXO', 'RACACOR', 'IDANOMAL', 'CODANOMAL', 'NATURALMAE',\n",
       "       'CODMUNNATU', 'CODUFNATU', 'ESCMAE2010', 'SERIESCMAE', 'DTNASCMAE',\n",
       "       'RACACORMAE', 'QTDGESTANT', 'QTDPARTNOR', 'QTDPARTCES', 'IDADEPAI',\n",
       "       'DTULTMENST', 'CONSPRENAT', 'MESPRENAT', 'ESCMAEAGR1', 'STDNEPIDEM',\n",
       "       'STDNNOVA', 'CODPAISRES', 'PARIDADE', 'CLASSE'],\n",
       "      dtype='object')"
      ]
     },
     "execution_count": 24,
     "metadata": {},
     "output_type": "execute_result"
    }
   ],
   "source": [
    "df_unificado.columns"
   ]
  }
 ],
 "metadata": {
  "kernelspec": {
   "display_name": "Python 3",
   "language": "python",
   "name": "python3"
  },
  "language_info": {
   "codemirror_mode": {
    "name": "ipython",
    "version": 3
   },
   "file_extension": ".py",
   "mimetype": "text/x-python",
   "name": "python",
   "nbconvert_exporter": "python",
   "pygments_lexer": "ipython3",
   "version": "3.12.4"
  }
 },
 "nbformat": 4,
 "nbformat_minor": 2
}

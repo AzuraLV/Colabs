{
 "cells": [
  {
   "cell_type": "code",
   "execution_count": 11,
   "metadata": {},
   "outputs": [],
   "source": [
    "\n",
    "import numpy as np\n",
    "import pandas as pd"
   ]
  },
  {
   "cell_type": "code",
   "execution_count": 12,
   "metadata": {},
   "outputs": [],
   "source": [
    "df = pd.read_csv(r\"C:\\Users\\annab\\OneDrive\\Documentos\\GitHub\\Colabs\\bases\\data_prema.csv\")"
   ]
  },
  {
   "cell_type": "code",
   "execution_count": 13,
   "metadata": {},
   "outputs": [],
   "source": [
    "atributos_excluir = [\n",
    "    'DTDECLARAC', 'TPDOCRESP', 'TPFUNCRESP', 'TPNASCASSI', 'STCESPARTO', 'STTRABPART', \n",
    "    'SEMAGESTAC', 'DIFDATA', 'DTRECORIGA', 'DTRECEBIM', 'VERSAOSIST', 'NUMEROLOTE', 'DTCADASTRO',\n",
    "    'PESO', 'APGAR1', 'APGAR5', 'HORANASC', 'DTNASC', 'PARTO', 'TPROBSON', 'KOTELCHUCK', 'CONTADOR', 'ORIGEM',\n",
    "    'TPMETESTIM', 'TPAPRESENT'\n",
    "    ]\n",
    "\n",
    "df = df.drop(columns=atributos_excluir)"
   ]
  },
  {
   "cell_type": "code",
   "execution_count": 14,
   "metadata": {},
   "outputs": [
    {
     "name": "stderr",
     "output_type": "stream",
     "text": [
      "<>:2: SyntaxWarning: invalid escape sequence '\\p'\n",
      "<>:2: SyntaxWarning: invalid escape sequence '\\p'\n",
      "C:\\Users\\annab\\AppData\\Local\\Temp\\ipykernel_11792\\3609595235.py:2: SyntaxWarning: invalid escape sequence '\\p'\n",
      "  arquivo_csv = f'{caminho_pasta}\\processamento_final.csv'\n"
     ]
    }
   ],
   "source": [
    "caminho_pasta = r'C:\\Users\\SeuUsuario\\RECPAD\\Processamento'\n",
    "arquivo_csv = f'{caminho_pasta}\\processamento_final.csv'\n",
    "df.to_csv('df_processed', index=False)"
   ]
  },
  {
   "cell_type": "code",
   "execution_count": 15,
   "metadata": {},
   "outputs": [
    {
     "data": {
      "text/plain": [
       "Index(['CODESTAB', 'CODMUNNASC', 'LOCNASC', 'IDADEMAE', 'ESTCIVMAE', 'ESCMAE',\n",
       "       'CODOCUPMAE', 'QTDFILVIVO', 'QTDFILMORT', 'CODMUNRES', 'GESTACAO',\n",
       "       'GRAVIDEZ', 'CONSULTAS', 'SEXO', 'RACACOR', 'IDANOMAL', 'CODANOMAL',\n",
       "       'NATURALMAE', 'CODMUNNATU', 'CODUFNATU', 'ESCMAE2010', 'SERIESCMAE',\n",
       "       'DTNASCMAE', 'RACACORMAE', 'QTDGESTANT', 'QTDPARTNOR', 'QTDPARTCES',\n",
       "       'IDADEPAI', 'DTULTMENST', 'CONSPRENAT', 'MESPRENAT', 'ESCMAEAGR1',\n",
       "       'STDNEPIDEM', 'STDNNOVA', 'CODPAISRES', 'PARIDADE'],\n",
       "      dtype='object')"
      ]
     },
     "execution_count": 15,
     "metadata": {},
     "output_type": "execute_result"
    }
   ],
   "source": [
    "df.columns"
   ]
  }
 ],
 "metadata": {
  "kernelspec": {
   "display_name": "Python 3",
   "language": "python",
   "name": "python3"
  },
  "language_info": {
   "codemirror_mode": {
    "name": "ipython",
    "version": 3
   },
   "file_extension": ".py",
   "mimetype": "text/x-python",
   "name": "python",
   "nbconvert_exporter": "python",
   "pygments_lexer": "ipython3",
   "version": "3.12.4"
  }
 },
 "nbformat": 4,
 "nbformat_minor": 2
}

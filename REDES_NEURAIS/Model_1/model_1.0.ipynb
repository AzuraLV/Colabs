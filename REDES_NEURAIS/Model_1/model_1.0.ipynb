{
 "cells": [
  {
   "cell_type": "markdown",
   "metadata": {},
   "source": [
    "# MLP"
   ]
  },
  {
   "cell_type": "code",
   "execution_count": 23,
   "metadata": {},
   "outputs": [],
   "source": [
    "import tensorflow as tf\n",
    "from tensorflow.keras.models import Sequential\n",
    "from tensorflow.keras.layers import Dense\n",
    "from sklearn.model_selection import train_test_split\n",
    "from sklearn.preprocessing import StandardScaler\n",
    "import numpy as np\n",
    "import pandas as pd"
   ]
  },
  {
   "cell_type": "markdown",
   "metadata": {},
   "source": [
    "# Processamento "
   ]
  },
  {
   "cell_type": "code",
   "execution_count": 24,
   "metadata": {},
   "outputs": [],
   "source": [
    "df = pd.read_csv(r\"C:\\Users\\annab\\OneDrive\\Documentos\\GitHub\\Colabs\\bases\\data_prema.csv\")"
   ]
  },
  {
   "cell_type": "code",
   "execution_count": 25,
   "metadata": {},
   "outputs": [
    {
     "name": "stdout",
     "output_type": "stream",
     "text": [
      "CLASSE\n",
      "0    469381\n",
      "1     56987\n",
      "Name: count, dtype: int64\n"
     ]
    }
   ],
   "source": [
    "df['CLASSE'] = df['GESTACAO'].apply(lambda x: 1 if x in [1, 2, 3, 4] else 0)\n",
    "print(df['CLASSE'].value_counts())"
   ]
  },
  {
   "cell_type": "code",
   "execution_count": 26,
   "metadata": {},
   "outputs": [
    {
     "name": "stdout",
     "output_type": "stream",
     "text": [
      "CODESTAB        2785\n",
      "CODMUNNASC         0\n",
      "LOCNASC            0\n",
      "IDADEMAE           0\n",
      "ESTCIVMAE       3656\n",
      "               ...  \n",
      "PARIDADE           0\n",
      "KOTELCHUCK         0\n",
      "CONTADOR           0\n",
      "ORIGEM        400157\n",
      "CLASSE             0\n",
      "Length: 62, dtype: int64\n",
      "           CODESTAB    CODMUNNASC        LOCNASC       IDADEMAE  \\\n",
      "count  5.235830e+05  526368.00000  526368.000000  526368.000000   \n",
      "mean   2.926934e+06  261216.64844       1.016441      26.436398   \n",
      "std    2.457727e+06    4355.74106       0.189859       6.713817   \n",
      "min    2.400000e+01  110012.00000       1.000000      11.000000   \n",
      "25%    2.344882e+06  260600.00000       1.000000      21.000000   \n",
      "50%    2.430711e+06  261110.00000       1.000000      26.000000   \n",
      "75%    2.711958e+06  261160.00000       1.000000      31.000000   \n",
      "max    9.954279e+06  530010.00000       9.000000      99.000000   \n",
      "\n",
      "           ESTCIVMAE         ESCMAE     CODOCUPMAE     QTDFILVIVO  \\\n",
      "count  522712.000000  523782.000000  507445.000000  523369.000000   \n",
      "mean        2.079635       3.924396  726843.055131       1.017905   \n",
      "std         1.523084       0.797589  273739.389280       1.284613   \n",
      "min         1.000000       1.000000   10205.000000       0.000000   \n",
      "25%         1.000000       4.000000  521110.000000       0.000000   \n",
      "50%         1.000000       4.000000  622020.000000       1.000000   \n",
      "75%         2.000000       4.000000  999992.000000       1.000000   \n",
      "max         9.000000       9.000000  999994.000000      99.000000   \n",
      "\n",
      "         QTDFILMORT      CODMUNRES  ...     ESCMAEAGR1     STDNEPIDEM  \\\n",
      "count  522370.00000  526368.000000  ...  523535.000000  526367.000000   \n",
      "mean        0.24654  260853.839588  ...       5.925111       0.000009   \n",
      "std         0.61710     422.766453  ...       2.713618       0.003082   \n",
      "min         0.00000  260000.000000  ...       0.000000       0.000000   \n",
      "25%         0.00000  260500.000000  ...       4.000000       0.000000   \n",
      "50%         0.00000  260960.000000  ...       6.000000       0.000000   \n",
      "75%         0.00000  261160.000000  ...       7.000000       0.000000   \n",
      "max        99.00000  261650.000000  ...      12.000000       1.000000   \n",
      "\n",
      "            STDNNOVA  CODPAISRES       TPROBSON       PARIDADE     KOTELCHUCK  \\\n",
      "count  526368.000000    526366.0  526368.000000  526368.000000  526368.000000   \n",
      "mean        0.999905         1.0       3.996850       0.628091       4.303820   \n",
      "std         0.009746         0.0       2.776476       0.483315       1.515633   \n",
      "min         0.000000         1.0       1.000000       0.000000       1.000000   \n",
      "25%         1.000000         1.0       2.000000       0.000000       3.000000   \n",
      "50%         1.000000         1.0       3.000000       1.000000       5.000000   \n",
      "75%         1.000000         1.0       5.000000       1.000000       5.000000   \n",
      "max         1.000000         1.0      11.000000       1.000000       9.000000   \n",
      "\n",
      "           CONTADOR    ORIGEM         CLASSE  \n",
      "count  5.263680e+05  126211.0  526368.000000  \n",
      "mean   1.083638e+06       1.0       0.108265  \n",
      "std    7.243424e+05       0.0       0.310715  \n",
      "min    7.095000e+04       1.0       0.000000  \n",
      "25%    3.821630e+05       1.0       0.000000  \n",
      "50%    4.270745e+05       1.0       0.000000  \n",
      "75%    1.830610e+06       1.0       0.000000  \n",
      "max    2.944896e+06       1.0       1.000000  \n",
      "\n",
      "[8 rows x 60 columns]\n",
      "CLASSE\n",
      "0    469381\n",
      "1     56987\n",
      "Name: count, dtype: int64\n"
     ]
    }
   ],
   "source": [
    "print(df.isnull().sum())\n",
    "print(df.describe())\n",
    "print(df['CLASSE'].value_counts())\n"
   ]
  },
  {
   "cell_type": "code",
   "execution_count": 27,
   "metadata": {},
   "outputs": [],
   "source": [
    "df = df.drop(['IDADEPAI', 'DTNASCMAE','STDNEPIDEM', 'STDNNOVA','TPAPRESENT', 'STTRABPART','TPMETESTIM','IDANOMAL', 'CODANOMAL','CODOCUPMAE','CODESTAB', 'CODMUNNASC', 'LOCNASC', 'CODMUNRES', 'DTNASC', 'HORANASC','PARTO', 'PESO', 'APGAR1', 'APGAR5', 'DTCADASTRO', 'NUMEROLOTE', 'VERSAOSIST', 'DTRECEBIM', 'DIFDATA', 'DTRECORIGA', 'NATURALMAE', 'CODMUNNATU', 'CODUFNATU', 'DTULTMENST', 'CONSPRENAT', 'STCESPARTO', 'TPNASCASSI', 'TPFUNCRESP', 'TPDOCRESP', 'DTDECLARAC', 'CODPAISRES', 'TPROBSON', 'KOTELCHUCK', 'CONTADOR', 'ORIGEM'], axis=1)"
   ]
  },
  {
   "cell_type": "code",
   "execution_count": 28,
   "metadata": {},
   "outputs": [
    {
     "name": "stdout",
     "output_type": "stream",
     "text": [
      "IDADEMAE        int64\n",
      "ESTCIVMAE     float64\n",
      "ESCMAE        float64\n",
      "QTDFILVIVO    float64\n",
      "QTDFILMORT    float64\n",
      "GESTACAO      float64\n",
      "GRAVIDEZ      float64\n",
      "CONSULTAS     float64\n",
      "SEXO            int64\n",
      "RACACOR       float64\n",
      "ESCMAE2010    float64\n",
      "SERIESCMAE    float64\n",
      "RACACORMAE    float64\n",
      "QTDGESTANT    float64\n",
      "QTDPARTNOR    float64\n",
      "QTDPARTCES    float64\n",
      "SEMAGESTAC    float64\n",
      "MESPRENAT     float64\n",
      "ESCMAEAGR1    float64\n",
      "PARIDADE        int64\n",
      "CLASSE          int64\n",
      "dtype: object\n",
      "Coluna: IDADEMAE\n",
      "[29 37 16 22 33 20 36 32 31 27 30 23 24 28 21 25 34 41 18 35 26 40 39 43\n",
      " 38 19 15 14 17 45 44 42 13 50 46 47 52 48 12 51 53 11 57 58 99 49 55 54\n",
      " 63 61 64 62 60]\n",
      "\n",
      "Coluna: ESTCIVMAE\n",
      "[ 1.  2.  9.  5. nan  4.  3.]\n",
      "\n",
      "Coluna: ESCMAE\n",
      "[ 9.  4.  5.  1.  3. nan  2.]\n",
      "\n",
      "Coluna: QTDFILVIVO\n",
      "[ 1.  0.  3.  2.  4. nan  9.  7.  5.  6.  8. 14. 11. 10. 13. 99. 12. 16.\n",
      " 18. 15. 19. 30.]\n",
      "\n",
      "Coluna: QTDFILMORT\n",
      "[ 1.  0.  2. nan  4.  3.  9.  5. 10. 12.  7.  8.  6. 99. 13. 11. 21. 20.\n",
      " 14. 17.]\n",
      "\n",
      "Coluna: GESTACAO\n",
      "[nan  3.  5.  6.  4.  1.  2.  9.]\n",
      "\n",
      "Coluna: GRAVIDEZ\n",
      "[ 1.  2. nan  9.  3.]\n",
      "\n",
      "Coluna: CONSULTAS\n",
      "[ 3.  4.  1.  2.  9. nan]\n",
      "\n",
      "Coluna: SEXO\n",
      "[1 2 0]\n",
      "\n",
      "Coluna: RACACOR\n",
      "[ 4.  1. nan  3.  5.  2.]\n",
      "\n",
      "Coluna: ESCMAE2010\n",
      "[ 9.  3.  2.  5.  0.  1. nan  4.]\n",
      "\n",
      "Coluna: SERIESCMAE\n",
      "[nan  3.  8.  2.  1.  4.  6.  5.  7.]\n",
      "\n",
      "Coluna: RACACORMAE\n",
      "[ 4.  1. nan  3.  5.  2.]\n",
      "\n",
      "Coluna: QTDGESTANT\n",
      "[ 2.  0.  1.  3.  4.  6. nan  7.  5.  9.  8. 14. 10. 12. 11. 13. 22. 16.\n",
      " 99. 17. 15. 18. 19. 30. 20. 44. 25. 21. 23. 24. 39.]\n",
      "\n",
      "Coluna: QTDPARTNOR\n",
      "[nan  0.  2.  3.  1.  4.  9.  7.  5.  6.  8. 14. 12. 11. 10. 22. 55. 39.\n",
      " 33. 13. 30. 99. 20. 15. 16. 45. 18. 23. 19. 21. 60. 41. 58. 24. 36. 50.\n",
      " 91.]\n",
      "\n",
      "Coluna: QTDPARTCES\n",
      "[ 1.  0.  2.  3. nan  8.  4. 20.  5.  7. 99. 10. 30. 23. 21.  6. 11. 22.\n",
      "  9.]\n",
      "\n",
      "Coluna: SEMAGESTAC\n",
      "[nan 30. 39. 38. 37. 41. 40. 42. 44. 28. 36. 34. 35. 33. 43. 31. 19. 32.\n",
      " 27. 29. 26. 25. 45. 21. 20. 23. 24. 22.]\n",
      "\n",
      "Coluna: MESPRENAT\n",
      "[nan  1.  3.  2. 99.  7.  4.  5.  8.  6.  9.]\n",
      "\n",
      "Coluna: ESCMAEAGR1\n",
      "[ 9.  6.  4.  8.  0.  5.  2.  3. 12. nan  7. 11. 10.  1.]\n",
      "\n",
      "Coluna: PARIDADE\n",
      "[1 0]\n",
      "\n",
      "Coluna: CLASSE\n",
      "[0 1]\n",
      "\n"
     ]
    }
   ],
   "source": [
    "print(df.dtypes)\n",
    "\n",
    "for col in df.columns:\n",
    "    print(f\"Coluna: {col}\")\n",
    "    print(df[col].unique())\n",
    "    print()"
   ]
  },
  {
   "cell_type": "markdown",
   "metadata": {},
   "source": [
    "# Modelo desbalanceado"
   ]
  },
  {
   "cell_type": "code",
   "execution_count": 29,
   "metadata": {},
   "outputs": [],
   "source": [
    "X = df.drop('CLASSE', axis=1) \n",
    "y = df['CLASSE']\n",
    "\n",
    "X_train, X_test, y_train, y_test = train_test_split(X, y, test_size=0.2, random_state=42)\n",
    "\n",
    "scaler = StandardScaler()\n",
    "X_train = scaler.fit_transform(X_train)\n",
    "X_test = scaler.transform(X_test)"
   ]
  },
  {
   "cell_type": "code",
   "execution_count": 30,
   "metadata": {},
   "outputs": [
    {
     "name": "stderr",
     "output_type": "stream",
     "text": [
      "c:\\Users\\annab\\AppData\\Local\\Programs\\Python\\Python312\\Lib\\site-packages\\keras\\src\\layers\\core\\dense.py:87: UserWarning: Do not pass an `input_shape`/`input_dim` argument to a layer. When using Sequential models, prefer using an `Input(shape)` object as the first layer in the model instead.\n",
      "  super().__init__(activity_regularizer=activity_regularizer, **kwargs)\n"
     ]
    }
   ],
   "source": [
    "model = Sequential()\n",
    "model.add(Dense(64, input_dim=X_train.shape[1], activation='relu'))\n",
    "\n",
    "model.add(Dense(32, activation='relu'))\n",
    "model.add(Dense(16, activation='relu'))\n",
    "\n",
    "model.add(Dense(1, activation='sigmoid'))  \n",
    "\n",
    "\n",
    "model.compile(optimizer='adam', \n",
    "              loss='binary_crossentropy', \n",
    "              metrics=['accuracy'])\n"
   ]
  },
  {
   "cell_type": "code",
   "execution_count": 31,
   "metadata": {},
   "outputs": [
    {
     "name": "stdout",
     "output_type": "stream",
     "text": [
      "Epoch 1/50\n",
      "\u001b[1m10528/10528\u001b[0m \u001b[32m━━━━━━━━━━━━━━━━━━━━\u001b[0m\u001b[37m\u001b[0m \u001b[1m19s\u001b[0m 2ms/step - accuracy: 0.8902 - loss: 0.3590 - val_accuracy: 0.8921 - val_loss: 0.3421\n",
      "Epoch 2/50\n",
      "\u001b[1m10528/10528\u001b[0m \u001b[32m━━━━━━━━━━━━━━━━━━━━\u001b[0m\u001b[37m\u001b[0m \u001b[1m17s\u001b[0m 2ms/step - accuracy: 0.8910 - loss: 0.3447 - val_accuracy: 0.8921 - val_loss: 0.3422\n",
      "Epoch 3/50\n",
      "\u001b[1m10528/10528\u001b[0m \u001b[32m━━━━━━━━━━━━━━━━━━━━\u001b[0m\u001b[37m\u001b[0m \u001b[1m17s\u001b[0m 2ms/step - accuracy: 0.8922 - loss: 0.3422 - val_accuracy: 0.8921 - val_loss: 0.3426\n",
      "Epoch 4/50\n",
      "\u001b[1m10528/10528\u001b[0m \u001b[32m━━━━━━━━━━━━━━━━━━━━\u001b[0m\u001b[37m\u001b[0m \u001b[1m22s\u001b[0m 2ms/step - accuracy: 0.8920 - loss: 0.3426 - val_accuracy: 0.8921 - val_loss: 0.3421\n",
      "Epoch 5/50\n",
      "\u001b[1m10528/10528\u001b[0m \u001b[32m━━━━━━━━━━━━━━━━━━━━\u001b[0m\u001b[37m\u001b[0m \u001b[1m18s\u001b[0m 2ms/step - accuracy: 0.8913 - loss: 0.3441 - val_accuracy: 0.8921 - val_loss: 0.3426\n",
      "Epoch 6/50\n",
      "\u001b[1m10528/10528\u001b[0m \u001b[32m━━━━━━━━━━━━━━━━━━━━\u001b[0m\u001b[37m\u001b[0m \u001b[1m25s\u001b[0m 2ms/step - accuracy: 0.8914 - loss: 0.3438 - val_accuracy: 0.8921 - val_loss: 0.3422\n",
      "Epoch 7/50\n",
      "\u001b[1m10528/10528\u001b[0m \u001b[32m━━━━━━━━━━━━━━━━━━━━\u001b[0m\u001b[37m\u001b[0m \u001b[1m15s\u001b[0m 1ms/step - accuracy: 0.8918 - loss: 0.3430 - val_accuracy: 0.8921 - val_loss: 0.3421\n",
      "Epoch 8/50\n",
      "\u001b[1m10528/10528\u001b[0m \u001b[32m━━━━━━━━━━━━━━━━━━━━\u001b[0m\u001b[37m\u001b[0m \u001b[1m15s\u001b[0m 1ms/step - accuracy: 0.8904 - loss: 0.3459 - val_accuracy: 0.8921 - val_loss: 0.3421\n",
      "Epoch 9/50\n",
      "\u001b[1m10528/10528\u001b[0m \u001b[32m━━━━━━━━━━━━━━━━━━━━\u001b[0m\u001b[37m\u001b[0m \u001b[1m15s\u001b[0m 1ms/step - accuracy: 0.8926 - loss: 0.3414 - val_accuracy: 0.8921 - val_loss: 0.3424\n",
      "Epoch 10/50\n",
      "\u001b[1m10528/10528\u001b[0m \u001b[32m━━━━━━━━━━━━━━━━━━━━\u001b[0m\u001b[37m\u001b[0m \u001b[1m15s\u001b[0m 1ms/step - accuracy: 0.8918 - loss: 0.3428 - val_accuracy: 0.8921 - val_loss: 0.3422\n",
      "Epoch 11/50\n",
      "\u001b[1m10528/10528\u001b[0m \u001b[32m━━━━━━━━━━━━━━━━━━━━\u001b[0m\u001b[37m\u001b[0m \u001b[1m15s\u001b[0m 1ms/step - accuracy: 0.8913 - loss: 0.3439 - val_accuracy: 0.8921 - val_loss: 0.3421\n",
      "Epoch 12/50\n",
      "\u001b[1m10528/10528\u001b[0m \u001b[32m━━━━━━━━━━━━━━━━━━━━\u001b[0m\u001b[37m\u001b[0m \u001b[1m15s\u001b[0m 1ms/step - accuracy: 0.8920 - loss: 0.3424 - val_accuracy: 0.8921 - val_loss: 0.3434\n",
      "Epoch 13/50\n",
      "\u001b[1m10528/10528\u001b[0m \u001b[32m━━━━━━━━━━━━━━━━━━━━\u001b[0m\u001b[37m\u001b[0m \u001b[1m16s\u001b[0m 1ms/step - accuracy: 0.8913 - loss: 0.3439 - val_accuracy: 0.8921 - val_loss: 0.3424\n",
      "Epoch 14/50\n",
      "\u001b[1m10528/10528\u001b[0m \u001b[32m━━━━━━━━━━━━━━━━━━━━\u001b[0m\u001b[37m\u001b[0m \u001b[1m15s\u001b[0m 1ms/step - accuracy: 0.8913 - loss: 0.3440 - val_accuracy: 0.8921 - val_loss: 0.3425\n",
      "Epoch 15/50\n",
      "\u001b[1m10528/10528\u001b[0m \u001b[32m━━━━━━━━━━━━━━━━━━━━\u001b[0m\u001b[37m\u001b[0m \u001b[1m15s\u001b[0m 1ms/step - accuracy: 0.8925 - loss: 0.3414 - val_accuracy: 0.8921 - val_loss: 0.3421\n",
      "Epoch 16/50\n",
      "\u001b[1m10528/10528\u001b[0m \u001b[32m━━━━━━━━━━━━━━━━━━━━\u001b[0m\u001b[37m\u001b[0m \u001b[1m15s\u001b[0m 1ms/step - accuracy: 0.8911 - loss: 0.3445 - val_accuracy: 0.8921 - val_loss: 0.3423\n",
      "Epoch 17/50\n",
      "\u001b[1m10528/10528\u001b[0m \u001b[32m━━━━━━━━━━━━━━━━━━━━\u001b[0m\u001b[37m\u001b[0m \u001b[1m15s\u001b[0m 1ms/step - accuracy: 0.8918 - loss: 0.3429 - val_accuracy: 0.8921 - val_loss: 0.3422\n",
      "Epoch 18/50\n",
      "\u001b[1m10528/10528\u001b[0m \u001b[32m━━━━━━━━━━━━━━━━━━━━\u001b[0m\u001b[37m\u001b[0m \u001b[1m16s\u001b[0m 1ms/step - accuracy: 0.8903 - loss: 0.3459 - val_accuracy: 0.8921 - val_loss: 0.3421\n",
      "Epoch 19/50\n",
      "\u001b[1m10528/10528\u001b[0m \u001b[32m━━━━━━━━━━━━━━━━━━━━\u001b[0m\u001b[37m\u001b[0m \u001b[1m16s\u001b[0m 1ms/step - accuracy: 0.8918 - loss: 0.3429 - val_accuracy: 0.8921 - val_loss: 0.3421\n",
      "Epoch 20/50\n",
      "\u001b[1m10528/10528\u001b[0m \u001b[32m━━━━━━━━━━━━━━━━━━━━\u001b[0m\u001b[37m\u001b[0m \u001b[1m16s\u001b[0m 1ms/step - accuracy: 0.8920 - loss: 0.3425 - val_accuracy: 0.8921 - val_loss: 0.3421\n",
      "Epoch 21/50\n",
      "\u001b[1m10528/10528\u001b[0m \u001b[32m━━━━━━━━━━━━━━━━━━━━\u001b[0m\u001b[37m\u001b[0m \u001b[1m18s\u001b[0m 2ms/step - accuracy: 0.8905 - loss: 0.3456 - val_accuracy: 0.8921 - val_loss: 0.3421\n",
      "Epoch 22/50\n",
      "\u001b[1m10528/10528\u001b[0m \u001b[32m━━━━━━━━━━━━━━━━━━━━\u001b[0m\u001b[37m\u001b[0m \u001b[1m21s\u001b[0m 2ms/step - accuracy: 0.8920 - loss: 0.3426 - val_accuracy: 0.8921 - val_loss: 0.3421\n",
      "Epoch 23/50\n",
      "\u001b[1m10528/10528\u001b[0m \u001b[32m━━━━━━━━━━━━━━━━━━━━\u001b[0m\u001b[37m\u001b[0m \u001b[1m22s\u001b[0m 2ms/step - accuracy: 0.8922 - loss: 0.3420 - val_accuracy: 0.8921 - val_loss: 0.3421\n",
      "Epoch 24/50\n",
      "\u001b[1m10528/10528\u001b[0m \u001b[32m━━━━━━━━━━━━━━━━━━━━\u001b[0m\u001b[37m\u001b[0m \u001b[1m18s\u001b[0m 2ms/step - accuracy: 0.8916 - loss: 0.3432 - val_accuracy: 0.8921 - val_loss: 0.3423\n",
      "Epoch 25/50\n",
      "\u001b[1m10528/10528\u001b[0m \u001b[32m━━━━━━━━━━━━━━━━━━━━\u001b[0m\u001b[37m\u001b[0m \u001b[1m17s\u001b[0m 2ms/step - accuracy: 0.8928 - loss: 0.3406 - val_accuracy: 0.8921 - val_loss: 0.3421\n",
      "Epoch 26/50\n",
      "\u001b[1m10528/10528\u001b[0m \u001b[32m━━━━━━━━━━━━━━━━━━━━\u001b[0m\u001b[37m\u001b[0m \u001b[1m17s\u001b[0m 2ms/step - accuracy: 0.8917 - loss: 0.3432 - val_accuracy: 0.8921 - val_loss: 0.3422\n",
      "Epoch 27/50\n",
      "\u001b[1m10528/10528\u001b[0m \u001b[32m━━━━━━━━━━━━━━━━━━━━\u001b[0m\u001b[37m\u001b[0m \u001b[1m18s\u001b[0m 2ms/step - accuracy: 0.8917 - loss: 0.3430 - val_accuracy: 0.8921 - val_loss: 0.3421\n",
      "Epoch 28/50\n",
      "\u001b[1m10528/10528\u001b[0m \u001b[32m━━━━━━━━━━━━━━━━━━━━\u001b[0m\u001b[37m\u001b[0m \u001b[1m18s\u001b[0m 2ms/step - accuracy: 0.8928 - loss: 0.3408 - val_accuracy: 0.8921 - val_loss: 0.3421\n",
      "Epoch 29/50\n",
      "\u001b[1m10528/10528\u001b[0m \u001b[32m━━━━━━━━━━━━━━━━━━━━\u001b[0m\u001b[37m\u001b[0m \u001b[1m21s\u001b[0m 2ms/step - accuracy: 0.8915 - loss: 0.3436 - val_accuracy: 0.8921 - val_loss: 0.3421\n",
      "Epoch 30/50\n",
      "\u001b[1m10528/10528\u001b[0m \u001b[32m━━━━━━━━━━━━━━━━━━━━\u001b[0m\u001b[37m\u001b[0m \u001b[1m21s\u001b[0m 2ms/step - accuracy: 0.8919 - loss: 0.3425 - val_accuracy: 0.8921 - val_loss: 0.3421\n",
      "Epoch 31/50\n",
      "\u001b[1m10528/10528\u001b[0m \u001b[32m━━━━━━━━━━━━━━━━━━━━\u001b[0m\u001b[37m\u001b[0m \u001b[1m19s\u001b[0m 2ms/step - accuracy: 0.8920 - loss: 0.3425 - val_accuracy: 0.8921 - val_loss: 0.3421\n",
      "Epoch 32/50\n",
      "\u001b[1m10528/10528\u001b[0m \u001b[32m━━━━━━━━━━━━━━━━━━━━\u001b[0m\u001b[37m\u001b[0m \u001b[1m16s\u001b[0m 2ms/step - accuracy: 0.8908 - loss: 0.3449 - val_accuracy: 0.8921 - val_loss: 0.3422\n",
      "Epoch 33/50\n",
      "\u001b[1m10528/10528\u001b[0m \u001b[32m━━━━━━━━━━━━━━━━━━━━\u001b[0m\u001b[37m\u001b[0m \u001b[1m18s\u001b[0m 2ms/step - accuracy: 0.8922 - loss: 0.3421 - val_accuracy: 0.8921 - val_loss: 0.3422\n",
      "Epoch 34/50\n",
      "\u001b[1m10528/10528\u001b[0m \u001b[32m━━━━━━━━━━━━━━━━━━━━\u001b[0m\u001b[37m\u001b[0m \u001b[1m18s\u001b[0m 2ms/step - accuracy: 0.8910 - loss: 0.3445 - val_accuracy: 0.8921 - val_loss: 0.3425\n",
      "Epoch 35/50\n",
      "\u001b[1m10528/10528\u001b[0m \u001b[32m━━━━━━━━━━━━━━━━━━━━\u001b[0m\u001b[37m\u001b[0m \u001b[1m17s\u001b[0m 2ms/step - accuracy: 0.8915 - loss: 0.3435 - val_accuracy: 0.8921 - val_loss: 0.3421\n",
      "Epoch 36/50\n",
      "\u001b[1m10528/10528\u001b[0m \u001b[32m━━━━━━━━━━━━━━━━━━━━\u001b[0m\u001b[37m\u001b[0m \u001b[1m18s\u001b[0m 2ms/step - accuracy: 0.8910 - loss: 0.3445 - val_accuracy: 0.8921 - val_loss: 0.3421\n",
      "Epoch 37/50\n",
      "\u001b[1m10528/10528\u001b[0m \u001b[32m━━━━━━━━━━━━━━━━━━━━\u001b[0m\u001b[37m\u001b[0m \u001b[1m21s\u001b[0m 2ms/step - accuracy: 0.8916 - loss: 0.3432 - val_accuracy: 0.8921 - val_loss: 0.3421\n",
      "Epoch 38/50\n",
      "\u001b[1m10528/10528\u001b[0m \u001b[32m━━━━━━━━━━━━━━━━━━━━\u001b[0m\u001b[37m\u001b[0m \u001b[1m19s\u001b[0m 2ms/step - accuracy: 0.8920 - loss: 0.3424 - val_accuracy: 0.8921 - val_loss: 0.3421\n",
      "Epoch 39/50\n",
      "\u001b[1m10528/10528\u001b[0m \u001b[32m━━━━━━━━━━━━━━━━━━━━\u001b[0m\u001b[37m\u001b[0m \u001b[1m21s\u001b[0m 2ms/step - accuracy: 0.8916 - loss: 0.3433 - val_accuracy: 0.8921 - val_loss: 0.3421\n",
      "Epoch 40/50\n",
      "\u001b[1m10528/10528\u001b[0m \u001b[32m━━━━━━━━━━━━━━━━━━━━\u001b[0m\u001b[37m\u001b[0m \u001b[1m20s\u001b[0m 2ms/step - accuracy: 0.8908 - loss: 0.3448 - val_accuracy: 0.8921 - val_loss: 0.3422\n",
      "Epoch 41/50\n",
      "\u001b[1m10528/10528\u001b[0m \u001b[32m━━━━━━━━━━━━━━━━━━━━\u001b[0m\u001b[37m\u001b[0m \u001b[1m21s\u001b[0m 2ms/step - accuracy: 0.8911 - loss: 0.3443 - val_accuracy: 0.8921 - val_loss: 0.3421\n",
      "Epoch 42/50\n",
      "\u001b[1m10528/10528\u001b[0m \u001b[32m━━━━━━━━━━━━━━━━━━━━\u001b[0m\u001b[37m\u001b[0m \u001b[1m22s\u001b[0m 2ms/step - accuracy: 0.8919 - loss: 0.3426 - val_accuracy: 0.8921 - val_loss: 0.3422\n",
      "Epoch 43/50\n",
      "\u001b[1m10528/10528\u001b[0m \u001b[32m━━━━━━━━━━━━━━━━━━━━\u001b[0m\u001b[37m\u001b[0m \u001b[1m18s\u001b[0m 2ms/step - accuracy: 0.8919 - loss: 0.3426 - val_accuracy: 0.8921 - val_loss: 0.3423\n",
      "Epoch 44/50\n",
      "\u001b[1m10528/10528\u001b[0m \u001b[32m━━━━━━━━━━━━━━━━━━━━\u001b[0m\u001b[37m\u001b[0m \u001b[1m18s\u001b[0m 2ms/step - accuracy: 0.8912 - loss: 0.3441 - val_accuracy: 0.8921 - val_loss: 0.3421\n",
      "Epoch 45/50\n",
      "\u001b[1m10528/10528\u001b[0m \u001b[32m━━━━━━━━━━━━━━━━━━━━\u001b[0m\u001b[37m\u001b[0m \u001b[1m23s\u001b[0m 2ms/step - accuracy: 0.8917 - loss: 0.3431 - val_accuracy: 0.8921 - val_loss: 0.3421\n",
      "Epoch 46/50\n",
      "\u001b[1m10528/10528\u001b[0m \u001b[32m━━━━━━━━━━━━━━━━━━━━\u001b[0m\u001b[37m\u001b[0m \u001b[1m22s\u001b[0m 2ms/step - accuracy: 0.8921 - loss: 0.3422 - val_accuracy: 0.8921 - val_loss: 0.3421\n",
      "Epoch 47/50\n",
      "\u001b[1m10528/10528\u001b[0m \u001b[32m━━━━━━━━━━━━━━━━━━━━\u001b[0m\u001b[37m\u001b[0m \u001b[1m25s\u001b[0m 2ms/step - accuracy: 0.8918 - loss: 0.3428 - val_accuracy: 0.8921 - val_loss: 0.3423\n",
      "Epoch 48/50\n",
      "\u001b[1m10528/10528\u001b[0m \u001b[32m━━━━━━━━━━━━━━━━━━━━\u001b[0m\u001b[37m\u001b[0m \u001b[1m24s\u001b[0m 2ms/step - accuracy: 0.8912 - loss: 0.3440 - val_accuracy: 0.8921 - val_loss: 0.3422\n",
      "Epoch 49/50\n",
      "\u001b[1m10528/10528\u001b[0m \u001b[32m━━━━━━━━━━━━━━━━━━━━\u001b[0m\u001b[37m\u001b[0m \u001b[1m33s\u001b[0m 2ms/step - accuracy: 0.8919 - loss: 0.3425 - val_accuracy: 0.8921 - val_loss: 0.3421\n",
      "Epoch 50/50\n",
      "\u001b[1m10528/10528\u001b[0m \u001b[32m━━━━━━━━━━━━━━━━━━━━\u001b[0m\u001b[37m\u001b[0m \u001b[1m23s\u001b[0m 2ms/step - accuracy: 0.8915 - loss: 0.3433 - val_accuracy: 0.8921 - val_loss: 0.3423\n"
     ]
    }
   ],
   "source": [
    "history = model.fit(X_train, y_train, \n",
    "                    validation_split=0.2, \n",
    "                    epochs=50, \n",
    "                    batch_size=32, \n",
    "                    verbose=1)\n"
   ]
  },
  {
   "cell_type": "code",
   "execution_count": 32,
   "metadata": {},
   "outputs": [
    {
     "name": "stdout",
     "output_type": "stream",
     "text": [
      "\u001b[1m3290/3290\u001b[0m \u001b[32m━━━━━━━━━━━━━━━━━━━━\u001b[0m\u001b[37m\u001b[0m \u001b[1m3s\u001b[0m 957us/step - accuracy: 0.8927 - loss: 0.3410\n",
      "Loss: 0.34279724955558777, Accuracy: 0.8918536305427551\n"
     ]
    }
   ],
   "source": [
    "loss, accuracy = model.evaluate(X_test, y_test)\n",
    "print(f\"Loss: {loss}, Accuracy: {accuracy}\")"
   ]
  },
  {
   "cell_type": "code",
   "execution_count": 33,
   "metadata": {},
   "outputs": [
    {
     "data": {
      "image/png": "[encoded data removed]",
      "text/plain": [
       "<Figure size 640x480 with 1 Axes>"
      ]
     },
     "metadata": {},
     "output_type": "display_data"
    },
    {
     "data": {
      "image/png": "[encoded data removed]",
      "text/plain": [
       "<Figure size 640x480 with 1 Axes>"
      ]
     },
     "metadata": {},
     "output_type": "display_data"
    }
   ],
   "source": [
    "import matplotlib.pyplot as plt\n",
    "\n",
    "plt.plot(history.history['loss'], label='Train Loss')\n",
    "plt.plot(history.history['val_loss'], label='Validation Loss')\n",
    "plt.legend()\n",
    "plt.show()\n",
    "\n",
    "plt.plot(history.history['accuracy'], label='Train Accuracy')\n",
    "plt.plot(history.history['val_accuracy'], label='Validation Accuracy')\n",
    "plt.legend()\n",
    "plt.show()\n"
   ]
  },
  {
   "cell_type": "code",
   "execution_count": 34,
   "metadata": {},
   "outputs": [
    {
     "name": "stdout",
     "output_type": "stream",
     "text": [
      "\u001b[1m3290/3290\u001b[0m \u001b[32m━━━━━━━━━━━━━━━━━━━━\u001b[0m\u001b[37m\u001b[0m \u001b[1m2s\u001b[0m 711us/step\n",
      "[[0]\n",
      " [0]\n",
      " [0]\n",
      " [0]\n",
      " [0]\n",
      " [0]\n",
      " [0]\n",
      " [0]\n",
      " [0]\n",
      " [0]]\n"
     ]
    }
   ],
   "source": [
    "predictions = model.predict(X_test)\n",
    "predictions = (predictions > 0.5).astype(int)\n",
    "print(predictions[:10])"
   ]
  }
 ],
 "metadata": {
  "kernelspec": {
   "display_name": "Python 3",
   "language": "python",
   "name": "python3"
  },
  "language_info": {
   "codemirror_mode": {
    "name": "ipython",
    "version": 3
   },
   "file_extension": ".py",
   "mimetype": "text/x-python",
   "name": "python",
   "nbconvert_exporter": "python",
   "pygments_lexer": "ipython3",
   "version": "3.12.4"
  }
 },
 "nbformat": 4,
 "nbformat_minor": 2
}

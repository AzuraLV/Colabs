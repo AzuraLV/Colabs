{
 "cells": [
  {
   "cell_type": "markdown",
   "metadata": {},
   "source": []
  },
  {
   "cell_type": "markdown",
   "metadata": {},
   "source": [
    "# Processamento"
   ]
  },
  {
   "cell_type": "code",
   "execution_count": null,
   "metadata": {
    "vscode": {
     "languageId": "plaintext"
    }
   },
   "outputs": [],
   "source": [
    "def load_data(filepath):\n",
    "    return pd.read_csv(filepath)"
   ]
  },
  {
   "cell_type": "code",
   "execution_count": null,
   "metadata": {
    "vscode": {
     "languageId": "plaintext"
    }
   },
   "outputs": [],
   "source": [
    "def excluir_colunas_vazias(df, limite=80):\n",
    "    \n",
    "    percentual_vazio = df.isnull().mean() * 100\n",
    "    colunas_a_remover = percentual_vazio[percentual_vazio > limite].index\n",
    "    df_sem_colunas_vazias = df.drop(columns=colunas_a_remover)\n",
    "    \n",
    "    if len(colunas_a_remover) > 0:\n",
    "        print(f\"Colunas removidas (com mais de {limite}% de dados vazios):\")\n",
    "        print(colunas_a_remover)\n",
    "    \n",
    "    return df_sem_colunas_vazias"
   ]
  },
  {
   "cell_type": "code",
   "execution_count": null,
   "metadata": {
    "vscode": {
     "languageId": "plaintext"
    }
   },
   "outputs": [],
   "source": [
    "def preencher_com_media(df):\n",
    "   \n",
    "    for coluna in df.columns:\n",
    "        if pd.api.types.is_numeric_dtype(df[coluna]):\n",
    "            media_coluna = df[coluna].mean()\n",
    "            df[coluna].fillna(media_coluna, inplace=True)\n",
    "            print(f\"Preenchendo a coluna '{coluna}' com a média ({media_coluna})\")\n",
    "    return df"
   ]
  },
  {
   "cell_type": "code",
   "execution_count": null,
   "metadata": {
    "vscode": {
     "languageId": "plaintext"
    }
   },
   "outputs": [],
   "source": []
  },
  {
   "cell_type": "markdown",
   "metadata": {},
   "source": [
    "# Usando as funções"
   ]
  },
  {
   "cell_type": "code",
   "execution_count": null,
   "metadata": {
    "vscode": {
     "languageId": "plaintext"
    }
   },
   "outputs": [],
   "source": [
    "if __name__ == \"__main__\": \n",
    "    import os\n",
    "    filepath = r'C:\\Users\\annab\\OneDrive\\Documentos\\GitHub\\Colabs\\RECPAD\\Processamento\\df_processed'\n",
    "    \n",
    "    if not os.path.exists(filepath):\n",
    "        raise FileNotFoundError(f\"O arquivo especificado não foi encontrado: {filepath}\")\n",
    "    \n",
    "    df = load_data(filepath)\n",
    "\n",
    "    df_processed = excluir_colunas_vazias(df, limite=80)\n",
    "\n",
    "    selected_features = feature_selection_nn(df_processed, n_features=16)\n",
    "    df_selected = df_processed[selected_features]\n",
    "    df_final = preencher_com_media(df_selected)\n",
    "\n",
    "    print(\"Atributos selecionados:\", selected_features)\n",
    "    print(df_final.head())"
   ]
  }
 ],
 "metadata": {
  "language_info": {
   "name": "python"
  }
 },
 "nbformat": 4,
 "nbformat_minor": 2
}
